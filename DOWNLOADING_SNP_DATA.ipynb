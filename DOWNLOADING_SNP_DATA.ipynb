{
 "cells": [
  {
   "cell_type": "code",
   "execution_count": null,
   "metadata": {
    "collapsed": true
   },
   "outputs": [],
   "source": [
    "# Normal Imports\n",
    "%matplotlib inline\n",
    "import numpy as np\n",
    "# import scipy as sp\n",
    "# import matplotlib as mpl\n",
    "# import matplotlib.cm as cm\n",
    "# import matplotlib.pyplot as plt\n",
    "import pandas as pd\n",
    "# pd.set_option('display.width', 500)\n",
    "# pd.set_option('display.max_columns', 100)\n",
    "# pd.set_option('display.notebook_repr_html', True)\n",
    "# import seaborn as sns\n",
    "# sns.set_style(\"whitegrid\")\n",
    "# sns.set_context(\"poster\")\n",
    "\n",
    "# # Additional Imports Needed\n",
    "# from pyquery import PyQuery as pq\n",
    "# import requests\n",
    "\n",
    "from genda.formats.panVCF import VCF\n",
    "#from genda.formats.Snp_array import SNP_array\n",
    "from genda.formats.PED import PED"
   ]
  }
 ],
 "metadata": {
  "kernelspec": {
   "display_name": "Python 2",
   "language": "python",
   "name": "python2"
  },
  "language_info": {
   "codemirror_mode": {
    "name": "ipython",
    "version": 2
   },
   "file_extension": ".py",
   "mimetype": "text/x-python",
   "name": "python",
   "nbconvert_exporter": "python",
   "pygments_lexer": "ipython2",
   "version": "2.7.10"
  }
 },
 "nbformat": 4,
 "nbformat_minor": 0
}
