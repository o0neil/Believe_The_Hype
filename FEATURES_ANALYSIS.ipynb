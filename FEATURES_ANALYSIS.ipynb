{
 "cells": [
  {
   "cell_type": "code",
   "execution_count": 1,
   "metadata": {
    "collapsed": true
   },
   "outputs": [],
   "source": [
    "# Normal Imports\n",
    "%matplotlib inline\n",
    "import numpy as np\n",
    "import scipy as sp\n",
    "import matplotlib as mpl\n",
    "import matplotlib.cm as cm\n",
    "import matplotlib.pyplot as plt\n",
    "import pandas as pd\n",
    "pd.set_option('display.width', 500)\n",
    "pd.set_option('display.max_columns', 100)\n",
    "pd.set_option('display.notebook_repr_html', True)\n",
    "import seaborn as sns\n",
    "sns.set_style(\"whitegrid\")\n",
    "sns.set_context(\"poster\")"
   ]
  },
  {
   "cell_type": "code",
   "execution_count": 121,
   "metadata": {
    "collapsed": false
   },
   "outputs": [
    {
     "name": "stdout",
     "output_type": "stream",
     "text": [
      "(2347, 5)\n"
     ]
    },
    {
     "data": {
      "text/html": [
       "<div>\n",
       "<table border=\"1\" class=\"dataframe\">\n",
       "  <thead>\n",
       "    <tr style=\"text-align: right;\">\n",
       "      <th></th>\n",
       "      <th>DNA_UNIQUE_ID</th>\n",
       "      <th>Variety Group (Tree)1</th>\n",
       "      <th>days_to_mat</th>\n",
       "      <th>source_country</th>\n",
       "      <th>rice_blast</th>\n",
       "    </tr>\n",
       "  </thead>\n",
       "  <tbody>\n",
       "    <tr>\n",
       "      <th>0</th>\n",
       "      <td>IRIS 313-9783</td>\n",
       "      <td>Japonica</td>\n",
       "      <td>110</td>\n",
       "      <td>AFGHANISTAN</td>\n",
       "      <td>NaN</td>\n",
       "    </tr>\n",
       "    <tr>\n",
       "      <th>1</th>\n",
       "      <td>IRIS 313-10509</td>\n",
       "      <td>Indica</td>\n",
       "      <td>164</td>\n",
       "      <td>AFRICA</td>\n",
       "      <td>Susceptible</td>\n",
       "    </tr>\n",
       "    <tr>\n",
       "      <th>2</th>\n",
       "      <td>IRIS 313-9778</td>\n",
       "      <td>Indica</td>\n",
       "      <td>119</td>\n",
       "      <td>ARGENTINA</td>\n",
       "      <td>NaN</td>\n",
       "    </tr>\n",
       "    <tr>\n",
       "      <th>3</th>\n",
       "      <td>IRIS 313-9980</td>\n",
       "      <td>Japonica</td>\n",
       "      <td>110</td>\n",
       "      <td>ARGENTINA</td>\n",
       "      <td>NaN</td>\n",
       "    </tr>\n",
       "    <tr>\n",
       "      <th>4</th>\n",
       "      <td>IRIS 313-9795</td>\n",
       "      <td>Indica</td>\n",
       "      <td>135</td>\n",
       "      <td>AUSTRALIA</td>\n",
       "      <td>Susceptible</td>\n",
       "    </tr>\n",
       "  </tbody>\n",
       "</table>\n",
       "</div>"
      ],
      "text/plain": [
       "    DNA_UNIQUE_ID Variety Group (Tree)1  days_to_mat source_country   rice_blast\n",
       "0   IRIS 313-9783              Japonica          110    AFGHANISTAN          NaN\n",
       "1  IRIS 313-10509                Indica          164         AFRICA  Susceptible\n",
       "2   IRIS 313-9778                Indica          119      ARGENTINA          NaN\n",
       "3   IRIS 313-9980              Japonica          110      ARGENTINA          NaN\n",
       "4   IRIS 313-9795                Indica          135      AUSTRALIA  Susceptible"
      ]
     },
     "execution_count": 121,
     "metadata": {},
     "output_type": "execute_result"
    }
   ],
   "source": [
    "metricsdf = pd.read_csv('merged_dataframe_updated.csv')\n",
    "\n",
    "mat_df=metricsdf[['DNA_UNIQUE_ID','Variety Group (Tree)1',\n",
    "                  'days_to_mat','source_country','rice_blast']]\n",
    "print mat_df.shape\n",
    "mat_df.head()"
   ]
  },
  {
   "cell_type": "code",
   "execution_count": 122,
   "metadata": {
    "collapsed": false
   },
   "outputs": [
    {
     "name": "stdout",
     "output_type": "stream",
     "text": [
      "count: 2344\n",
      "min: 80\n",
      "max: 214\n",
      "mean: 131.939419795\n",
      "std: 24.4010276948\n"
     ]
    },
    {
     "data": {
      "image/png": "[encoded data removed]",
      "text/plain": [
       "<matplotlib.figure.Figure at 0x10d6682d0>"
      ]
     },
     "metadata": {},
     "output_type": "display_data"
    }
   ],
   "source": [
    "mat_df = mat_df[mat_df['days_to_mat'] != 0]\n",
    "\n",
    "plt.hist(mat_df['days_to_mat'])\n",
    "plt.title(\"Histogram of Days to Maturity\")\n",
    "plt.xlabel(\"Days\")\n",
    "plt.ylabel(\"Count\")\n",
    "\n",
    "days_list = np.array(mat_df['days_to_mat'])\n",
    "\n",
    "print \"count: \" + str(len(days_list))\n",
    "print \"min: \" + str(days_list.min())\n",
    "print \"max: \" + str(days_list.max())\n",
    "print \"mean: \" + str(days_list.mean())\n",
    "print \"std: \" + str(days_list.std())"
   ]
  },
  {
   "cell_type": "code",
   "execution_count": 124,
   "metadata": {
    "collapsed": false
   },
   "outputs": [
    {
     "data": {
      "text/plain": [
       "((2344,), 1640)"
      ]
     },
     "execution_count": 124,
     "metadata": {},
     "output_type": "execute_result"
    }
   ],
   "source": [
    "from sklearn.cross_validation import train_test_split\n",
    "\n",
    "itrain, itest = train_test_split(xrange(mat_df.shape[0]), train_size=0.7)\n",
    "mask=np.ones(mat_df.shape[0], dtype='int')\n",
    "mask[itrain]=1\n",
    "mask[itest]=0\n",
    "mask = (mask==1)\n",
    "mask.shape, mask.sum()"
   ]
  },
  {
   "cell_type": "code",
   "execution_count": 145,
   "metadata": {
    "collapsed": false
   },
   "outputs": [
    {
     "data": {
      "text/html": [
       "<div>\n",
       "<table border=\"1\" class=\"dataframe\">\n",
       "  <thead>\n",
       "    <tr style=\"text-align: right;\">\n",
       "      <th></th>\n",
       "      <th>DNA_UNIQUE_ID</th>\n",
       "      <th>Variety Group (Tree)1</th>\n",
       "      <th>days_to_mat</th>\n",
       "      <th>source_country</th>\n",
       "      <th>rice_blast</th>\n",
       "      <th>fast</th>\n",
       "      <th>stdardized_mat</th>\n",
       "      <th>z_score</th>\n",
       "    </tr>\n",
       "  </thead>\n",
       "  <tbody>\n",
       "    <tr>\n",
       "      <th>0</th>\n",
       "      <td>IRIS 313-9783</td>\n",
       "      <td>Japonica</td>\n",
       "      <td>110</td>\n",
       "      <td>AFGHANISTAN</td>\n",
       "      <td>NaN</td>\n",
       "      <td>False</td>\n",
       "      <td>-0.910445</td>\n",
       "      <td>-0.910445</td>\n",
       "    </tr>\n",
       "    <tr>\n",
       "      <th>1</th>\n",
       "      <td>IRIS 313-10509</td>\n",
       "      <td>Indica</td>\n",
       "      <td>164</td>\n",
       "      <td>AFRICA</td>\n",
       "      <td>Susceptible</td>\n",
       "      <td>False</td>\n",
       "      <td>1.329374</td>\n",
       "      <td>1.329374</td>\n",
       "    </tr>\n",
       "    <tr>\n",
       "      <th>2</th>\n",
       "      <td>IRIS 313-9778</td>\n",
       "      <td>Indica</td>\n",
       "      <td>119</td>\n",
       "      <td>ARGENTINA</td>\n",
       "      <td>NaN</td>\n",
       "      <td>False</td>\n",
       "      <td>-0.537142</td>\n",
       "      <td>-0.537142</td>\n",
       "    </tr>\n",
       "    <tr>\n",
       "      <th>3</th>\n",
       "      <td>IRIS 313-9980</td>\n",
       "      <td>Japonica</td>\n",
       "      <td>110</td>\n",
       "      <td>ARGENTINA</td>\n",
       "      <td>NaN</td>\n",
       "      <td>False</td>\n",
       "      <td>-0.910445</td>\n",
       "      <td>-0.910445</td>\n",
       "    </tr>\n",
       "    <tr>\n",
       "      <th>4</th>\n",
       "      <td>IRIS 313-9795</td>\n",
       "      <td>Indica</td>\n",
       "      <td>135</td>\n",
       "      <td>AUSTRALIA</td>\n",
       "      <td>Susceptible</td>\n",
       "      <td>False</td>\n",
       "      <td>0.126508</td>\n",
       "      <td>0.126508</td>\n",
       "    </tr>\n",
       "  </tbody>\n",
       "</table>\n",
       "</div>"
      ],
      "text/plain": [
       "    DNA_UNIQUE_ID Variety Group (Tree)1  days_to_mat source_country   rice_blast   fast  stdardized_mat   z_score\n",
       "0   IRIS 313-9783              Japonica          110    AFGHANISTAN          NaN  False       -0.910445 -0.910445\n",
       "1  IRIS 313-10509                Indica          164         AFRICA  Susceptible  False        1.329374  1.329374\n",
       "2   IRIS 313-9778                Indica          119      ARGENTINA          NaN  False       -0.537142 -0.537142\n",
       "3   IRIS 313-9980              Japonica          110      ARGENTINA          NaN  False       -0.910445 -0.910445\n",
       "4   IRIS 313-9795                Indica          135      AUSTRALIA  Susceptible  False        0.126508  0.126508"
      ]
     },
     "execution_count": 145,
     "metadata": {},
     "output_type": "execute_result"
    }
   ],
   "source": [
    "from sklearn.preprocessing import StandardScaler\n",
    "\n",
    "mat_df[['days_to_mat']] = mat_df[['days_to_mat']].astype(float)\n",
    "\n",
    "std_scale = StandardScaler().fit(mat_df[mask]['days_to_mat'])\n",
    "mat_df['stdardized_mat'] = std_scale.transform(mat_df['days_to_mat'])\n",
    "\n",
    "days_list = np.array(mat_df[mask]['days_to_mat'])\n",
    "\n",
    "mat_df['z_score'] = [(((mat_df['days_to_mat'])- days_list.mean())/days_list.std())][0]\n",
    "fast_grow = [mat_df['days_to_mat'] < (days_list.mean() - days_list.std())]\n",
    "mat_df['fast'] = fast_grow[0]\n",
    "\n",
    "mat_df.head()"
   ]
  },
  {
   "cell_type": "code",
   "execution_count": 194,
   "metadata": {
    "collapsed": false
   },
   "outputs": [
    {
     "name": "stdout",
     "output_type": "stream",
     "text": [
      "% fast: 15.1829268293\n",
      "% slow: 84.8170731707\n"
     ]
    }
   ],
   "source": [
    "print \"% fast: \" + str(sum(mat_df[mask]['fast'])/float(len((mat_df[mask]['fast']))) * 100)\n",
    "print \"% slow: \" + str((1. -sum(mat_df[mask]['fast'])/float(len((mat_df[mask]['fast'])))) * 100)"
   ]
  },
  {
   "cell_type": "markdown",
   "metadata": {},
   "source": [
    "BASE LINE THEN PREDICTS THAT EVERYTHING IS SLOW IS 85% ACCURATE"
   ]
  },
  {
   "cell_type": "code",
   "execution_count": 142,
   "metadata": {
    "collapsed": false
   },
   "outputs": [],
   "source": [
    "mat_df.to_csv('mat_df.csv')"
   ]
  },
  {
   "cell_type": "code",
   "execution_count": 163,
   "metadata": {
    "collapsed": false
   },
   "outputs": [
    {
     "data": {
      "text/plain": [
       "{'Aus/boro': 112.86206896551724,\n",
       " 'Basmati/sadri': 129.97435897435898,\n",
       " 'Indica': 139.51117886178861,\n",
       " 'Intermediate type': 127.40000000000001,\n",
       " 'Japonica': 127.92207792207792,\n",
       " 'Temperate japonica': 110.52884615384616,\n",
       " 'Tropical japonica': 124.29237288135593}"
      ]
     },
     "execution_count": 163,
     "metadata": {},
     "output_type": "execute_result"
    }
   ],
   "source": [
    "variety_days = {}\n",
    "\n",
    "for idx, row in enumerate(mat_df[mask].index):\n",
    "    variety = mat_df[mask].iloc[idx]['Variety Group (Tree)1']\n",
    "    days = mat_df[mask].iloc[idx]['days_to_mat']\n",
    "    if variety not in variety_days.keys():\n",
    "        variety_days.update({variety:[days]})\n",
    "    else:\n",
    "        variety_days.get(variety).append(days)\n",
    "for key in variety_days.keys():\n",
    "    days = np.mean(variety_days.get(key))\n",
    "    variety_days.update({key:days})\n",
    "    \n",
    "variety_days"
   ]
  },
  {
   "cell_type": "code",
   "execution_count": 191,
   "metadata": {
    "collapsed": false
   },
   "outputs": [
    {
     "name": "stdout",
     "output_type": "stream",
     "text": [
      "[[599   0]\n",
      " [105   0]]\n",
      "Accuracy: 85.0852272727%\n"
     ]
    }
   ],
   "source": [
    "from sklearn.metrics import confusion_matrix\n",
    "\n",
    "a = []\n",
    "for row in enumerate(mat_df[~mask].index):\n",
    "    variety = mat_df[~mask].iloc[row[0]]['Variety Group (Tree)1']\n",
    "    pred = (0.5*days_list.mean() + 0.5*variety_days.get(variety))\n",
    "    if pred < (days_list.mean() - days_list.std()):\n",
    "        a.append(True)\n",
    "    else:\n",
    "        a.append(False)\n",
    "        \n",
    "conf = confusion_matrix(mat_df[~mask]['fast'], a)\n",
    "        \n",
    "print conf\n",
    "print \"Accuracy: \" + str(float(conf[0][0]+conf[1][1])/float(len(mat_df[~mask]))*100) + \"%\""
   ]
  },
  {
   "cell_type": "code",
   "execution_count": 207,
   "metadata": {
    "collapsed": false
   },
   "outputs": [
    {
     "data": {
      "text/plain": [
       "('LIBERIA', (124.25, 16))"
      ]
     },
     "execution_count": 207,
     "metadata": {},
     "output_type": "execute_result"
    }
   ],
   "source": [
    "source_days = {}\n",
    "\n",
    "for idx, row in enumerate(mat_df[mask].index):\n",
    "    source = mat_df[mask].iloc[idx]['source_country']\n",
    "    days = mat_df[mask].iloc[idx]['days_to_mat']\n",
    "    if source not in source_days.keys():\n",
    "        source_days.update({source:[days]})\n",
    "    else:\n",
    "        source_days.get(source).append(days)\n",
    "for key in source_days.keys():\n",
    "    days = np.mean(source_days.get(key))\n",
    "    num = len(source_days.get(key))\n",
    "    source_days.update({key:(days,num)})\n",
    "    \n",
    "source_days.keys()[0],source_days.get(source_days.keys()[0])"
   ]
  },
  {
   "cell_type": "code",
   "execution_count": 309,
   "metadata": {
    "collapsed": false
   },
   "outputs": [
    {
     "name": "stdout",
     "output_type": "stream",
     "text": [
      "107.840899654\n",
      "-0.620473705895\n",
      "[[593   6]\n",
      " [ 92  13]]\n",
      "Accuracy: 86.0795454545%\n"
     ]
    }
   ],
   "source": [
    "a = []\n",
    "print (days_list.mean() - days_list.std())\n",
    "for row in enumerate(mat_df[~mask].index):\n",
    "    variety = mat_df[~mask].iloc[row[0]]['Variety Group (Tree)1']\n",
    "    source = mat_df[~mask].iloc[row[0]]['source_country']\n",
    "    if source in source_days.keys():\n",
    "        pred = (days_list.mean()+variety_days.get(variety)+500*source_days.get(source)[0])/502\n",
    "    else:\n",
    "        pred = (days_list.mean()+variety_days.get(variety))/2\n",
    "        \n",
    "    if pred < (days_list.mean() - days_list.std()):\n",
    "        a.append(True)\n",
    "    else:\n",
    "        a.append(False)\n",
    "    b.append(pred)\n",
    "conf = confusion_matrix(mat_df[~mask]['fast'], a)\n",
    "    \n",
    "print np.min(b)\n",
    "print conf\n",
    "print \"Accuracy: \" + str(float(conf[0][0]+conf[1][1])/float(len(mat_df[~mask]))*100) + \"%\""
   ]
  },
  {
   "cell_type": "code",
   "execution_count": 288,
   "metadata": {
    "collapsed": false
   },
   "outputs": [
    {
     "data": {
      "text/html": [
       "<div>\n",
       "<table border=\"1\" class=\"dataframe\">\n",
       "  <thead>\n",
       "    <tr style=\"text-align: right;\">\n",
       "      <th></th>\n",
       "      <th>DNA_UNIQUE_ID</th>\n",
       "      <th>Variety Group (Tree)1</th>\n",
       "      <th>days_to_mat</th>\n",
       "      <th>source_country</th>\n",
       "      <th>rice_blast</th>\n",
       "      <th>fast</th>\n",
       "      <th>stdardized_mat</th>\n",
       "      <th>z_score</th>\n",
       "      <th>source_val</th>\n",
       "      <th>var_val</th>\n",
       "      <th>mean</th>\n",
       "    </tr>\n",
       "  </thead>\n",
       "  <tbody>\n",
       "    <tr>\n",
       "      <th>0</th>\n",
       "      <td>IRIS 313-9783</td>\n",
       "      <td>Japonica</td>\n",
       "      <td>110</td>\n",
       "      <td>AFGHANISTAN</td>\n",
       "      <td>NaN</td>\n",
       "      <td>False</td>\n",
       "      <td>-0.910445</td>\n",
       "      <td>-0.910445</td>\n",
       "      <td>110.000</td>\n",
       "      <td>127.922078</td>\n",
       "      <td>131.95</td>\n",
       "    </tr>\n",
       "    <tr>\n",
       "      <th>2</th>\n",
       "      <td>IRIS 313-9778</td>\n",
       "      <td>Indica</td>\n",
       "      <td>119</td>\n",
       "      <td>ARGENTINA</td>\n",
       "      <td>NaN</td>\n",
       "      <td>False</td>\n",
       "      <td>-0.537142</td>\n",
       "      <td>-0.537142</td>\n",
       "      <td>114.500</td>\n",
       "      <td>127.922078</td>\n",
       "      <td>131.95</td>\n",
       "    </tr>\n",
       "    <tr>\n",
       "      <th>3</th>\n",
       "      <td>IRIS 313-9980</td>\n",
       "      <td>Japonica</td>\n",
       "      <td>110</td>\n",
       "      <td>ARGENTINA</td>\n",
       "      <td>NaN</td>\n",
       "      <td>False</td>\n",
       "      <td>-0.910445</td>\n",
       "      <td>-0.910445</td>\n",
       "      <td>135.000</td>\n",
       "      <td>139.511179</td>\n",
       "      <td>131.95</td>\n",
       "    </tr>\n",
       "    <tr>\n",
       "      <th>4</th>\n",
       "      <td>IRIS 313-9795</td>\n",
       "      <td>Indica</td>\n",
       "      <td>135</td>\n",
       "      <td>AUSTRALIA</td>\n",
       "      <td>Susceptible</td>\n",
       "      <td>False</td>\n",
       "      <td>0.126508</td>\n",
       "      <td>0.126508</td>\n",
       "      <td>119.000</td>\n",
       "      <td>124.292373</td>\n",
       "      <td>131.95</td>\n",
       "    </tr>\n",
       "    <tr>\n",
       "      <th>5</th>\n",
       "      <td>IRIS 313-9771</td>\n",
       "      <td>Tropical japonica</td>\n",
       "      <td>119</td>\n",
       "      <td>AUSTRIA</td>\n",
       "      <td>NaN</td>\n",
       "      <td>False</td>\n",
       "      <td>-0.537142</td>\n",
       "      <td>-0.537142</td>\n",
       "      <td>127.384</td>\n",
       "      <td>112.862069</td>\n",
       "      <td>131.95</td>\n",
       "    </tr>\n",
       "  </tbody>\n",
       "</table>\n",
       "</div>"
      ],
      "text/plain": [
       "   DNA_UNIQUE_ID Variety Group (Tree)1  days_to_mat source_country   rice_blast   fast  stdardized_mat   z_score  source_val     var_val    mean\n",
       "0  IRIS 313-9783              Japonica          110    AFGHANISTAN          NaN  False       -0.910445 -0.910445     110.000  127.922078  131.95\n",
       "2  IRIS 313-9778                Indica          119      ARGENTINA          NaN  False       -0.537142 -0.537142     114.500  127.922078  131.95\n",
       "3  IRIS 313-9980              Japonica          110      ARGENTINA          NaN  False       -0.910445 -0.910445     135.000  139.511179  131.95\n",
       "4  IRIS 313-9795                Indica          135      AUSTRALIA  Susceptible  False        0.126508  0.126508     119.000  124.292373  131.95\n",
       "5  IRIS 313-9771     Tropical japonica          119        AUSTRIA          NaN  False       -0.537142 -0.537142     127.384  112.862069  131.95"
      ]
     },
     "execution_count": 288,
     "metadata": {},
     "output_type": "execute_result"
    }
   ],
   "source": [
    "train_df = mat_df[mask]\n",
    "\n",
    "train_var_days = []\n",
    "train_source_days = []\n",
    "for row,_ in enumerate(train_df.index):\n",
    "    var = train_df.iloc[row]['Variety Group (Tree)1']\n",
    "    source = train_df.iloc[row]['source_country']\n",
    "    if source in source_days.keys():\n",
    "        train_source_days.append((source_days.get(source)[0]))\n",
    "    else:\n",
    "        train_source_days.append(days_list.mean())\n",
    "    train_var_days.append((variety_days.get(var)))\n",
    "    \n",
    "train_df.loc[:,'source_val'] = pd.Series(train_source_days)\n",
    "train_df.loc[:,'var_val'] = pd.Series(train_var_days)\n",
    "train_df.loc[:,'mean'] = days_list.mean()\n",
    "\n",
    "train_df.head()"
   ]
  },
  {
   "cell_type": "code",
   "execution_count": 276,
   "metadata": {
    "collapsed": false
   },
   "outputs": [
    {
     "data": {
      "text/plain": [
       "Intercept     0.003576\n",
       "source_val    0.293890\n",
       "var_val       0.229555\n",
       "mean          0.471799\n",
       "dtype: float64"
      ]
     },
     "execution_count": 276,
     "metadata": {},
     "output_type": "execute_result"
    }
   ],
   "source": [
    "import statsmodels.api as sm\n",
    "from statsmodels.formula.api import glm, ols\n",
    "\n",
    "ols_model = ols('days_to_mat ~ source_val + var_val + mean', train_df).fit()\n",
    "ols_model.params"
   ]
  },
  {
   "cell_type": "code",
   "execution_count": 278,
   "metadata": {
    "collapsed": false
   },
   "outputs": [
    {
     "name": "stdout",
     "output_type": "stream",
     "text": [
      "0.00357559125767\n",
      "[[599   0]\n",
      " [105   0]]\n",
      "Accuracy: 85.0852272727%\n"
     ]
    }
   ],
   "source": [
    "a = []\n",
    "mean = days_list.mean()\n",
    "\n",
    "for row in enumerate(mat_df[~mask].index):\n",
    "    variety = mat_df[~mask].iloc[row[0]]['Variety Group (Tree)1']\n",
    "    source = mat_df[~mask].iloc[row[0]]['source_country']\n",
    "    \n",
    "    if source in source_days.keys():\n",
    "        pred = (ols_model.params.Intercept + ols_model.params.source_val*source_days.get(source)[0]\n",
    "        + ols_model.params.var_val*variety_days.get(variety) + ols_model.params['mean']*mean)\n",
    "   \n",
    "    else:\n",
    "        pred = (ols_model.params.Intercept + ols_model.params.source_val*mean\n",
    "        + ols_model.params.var_val*variety_days.get(variety) + ols_model.params['mean']*mean)\n",
    "\n",
    "    if pred < (days_list.mean() - days_list.std()):\n",
    "        a.append(True)\n",
    "    else:\n",
    "        a.append(False)\n",
    "    b.append(pred)\n",
    "conf = confusion_matrix(mat_df[~mask]['fast'], a)\n",
    "    \n",
    "print np.min(b)\n",
    "print conf\n",
    "print \"Accuracy: \" + str(float(conf[0][0]+conf[1][1])/float(len(mat_df[~mask]))*100) + \"%\""
   ]
  },
  {
   "cell_type": "code",
   "execution_count": 295,
   "metadata": {
    "collapsed": false
   },
   "outputs": [
    {
     "name": "stdout",
     "output_type": "stream",
     "text": [
      "4.76583542278e-16\n"
     ]
    },
    {
     "data": {
      "text/html": [
       "<div>\n",
       "<table border=\"1\" class=\"dataframe\">\n",
       "  <thead>\n",
       "    <tr style=\"text-align: right;\">\n",
       "      <th></th>\n",
       "      <th>DNA_UNIQUE_ID</th>\n",
       "      <th>Variety Group (Tree)1</th>\n",
       "      <th>days_to_mat</th>\n",
       "      <th>source_country</th>\n",
       "      <th>rice_blast</th>\n",
       "      <th>fast</th>\n",
       "      <th>stdardized_mat</th>\n",
       "      <th>z_score</th>\n",
       "      <th>source_val</th>\n",
       "      <th>var_val</th>\n",
       "      <th>mean</th>\n",
       "      <th>stdsource_val</th>\n",
       "      <th>stdvar_val</th>\n",
       "      <th>std_mean</th>\n",
       "    </tr>\n",
       "  </thead>\n",
       "  <tbody>\n",
       "    <tr>\n",
       "      <th>0</th>\n",
       "      <td>IRIS 313-9783</td>\n",
       "      <td>Japonica</td>\n",
       "      <td>110</td>\n",
       "      <td>AFGHANISTAN</td>\n",
       "      <td>NaN</td>\n",
       "      <td>False</td>\n",
       "      <td>-0.910445</td>\n",
       "      <td>-0.910445</td>\n",
       "      <td>110.000</td>\n",
       "      <td>127.922078</td>\n",
       "      <td>131.95</td>\n",
       "      <td>-0.910445</td>\n",
       "      <td>-0.167071</td>\n",
       "      <td>0</td>\n",
       "    </tr>\n",
       "    <tr>\n",
       "      <th>2</th>\n",
       "      <td>IRIS 313-9778</td>\n",
       "      <td>Indica</td>\n",
       "      <td>119</td>\n",
       "      <td>ARGENTINA</td>\n",
       "      <td>NaN</td>\n",
       "      <td>False</td>\n",
       "      <td>-0.537142</td>\n",
       "      <td>-0.537142</td>\n",
       "      <td>114.500</td>\n",
       "      <td>127.922078</td>\n",
       "      <td>131.95</td>\n",
       "      <td>-0.723793</td>\n",
       "      <td>-0.167071</td>\n",
       "      <td>0</td>\n",
       "    </tr>\n",
       "    <tr>\n",
       "      <th>3</th>\n",
       "      <td>IRIS 313-9980</td>\n",
       "      <td>Japonica</td>\n",
       "      <td>110</td>\n",
       "      <td>ARGENTINA</td>\n",
       "      <td>NaN</td>\n",
       "      <td>False</td>\n",
       "      <td>-0.910445</td>\n",
       "      <td>-0.910445</td>\n",
       "      <td>135.000</td>\n",
       "      <td>139.511179</td>\n",
       "      <td>131.95</td>\n",
       "      <td>0.126508</td>\n",
       "      <td>0.313623</td>\n",
       "      <td>0</td>\n",
       "    </tr>\n",
       "    <tr>\n",
       "      <th>4</th>\n",
       "      <td>IRIS 313-9795</td>\n",
       "      <td>Indica</td>\n",
       "      <td>135</td>\n",
       "      <td>AUSTRALIA</td>\n",
       "      <td>Susceptible</td>\n",
       "      <td>False</td>\n",
       "      <td>0.126508</td>\n",
       "      <td>0.126508</td>\n",
       "      <td>119.000</td>\n",
       "      <td>124.292373</td>\n",
       "      <td>131.95</td>\n",
       "      <td>-0.537142</td>\n",
       "      <td>-0.317624</td>\n",
       "      <td>0</td>\n",
       "    </tr>\n",
       "    <tr>\n",
       "      <th>5</th>\n",
       "      <td>IRIS 313-9771</td>\n",
       "      <td>Tropical japonica</td>\n",
       "      <td>119</td>\n",
       "      <td>AUSTRIA</td>\n",
       "      <td>NaN</td>\n",
       "      <td>False</td>\n",
       "      <td>-0.537142</td>\n",
       "      <td>-0.537142</td>\n",
       "      <td>127.384</td>\n",
       "      <td>112.862069</td>\n",
       "      <td>131.95</td>\n",
       "      <td>-0.189389</td>\n",
       "      <td>-0.791731</td>\n",
       "      <td>0</td>\n",
       "    </tr>\n",
       "  </tbody>\n",
       "</table>\n",
       "</div>"
      ],
      "text/plain": [
       "   DNA_UNIQUE_ID Variety Group (Tree)1  days_to_mat source_country   rice_blast   fast  stdardized_mat   z_score  source_val     var_val    mean  stdsource_val  stdvar_val  std_mean\n",
       "0  IRIS 313-9783              Japonica          110    AFGHANISTAN          NaN  False       -0.910445 -0.910445     110.000  127.922078  131.95      -0.910445   -0.167071         0\n",
       "2  IRIS 313-9778                Indica          119      ARGENTINA          NaN  False       -0.537142 -0.537142     114.500  127.922078  131.95      -0.723793   -0.167071         0\n",
       "3  IRIS 313-9980              Japonica          110      ARGENTINA          NaN  False       -0.910445 -0.910445     135.000  139.511179  131.95       0.126508    0.313623         0\n",
       "4  IRIS 313-9795                Indica          135      AUSTRALIA  Susceptible  False        0.126508  0.126508     119.000  124.292373  131.95      -0.537142   -0.317624         0\n",
       "5  IRIS 313-9771     Tropical japonica          119        AUSTRIA          NaN  False       -0.537142 -0.537142     127.384  112.862069  131.95      -0.189389   -0.791731         0"
      ]
     },
     "execution_count": 295,
     "metadata": {},
     "output_type": "execute_result"
    }
   ],
   "source": [
    "stddays_list = [item for item in mat_df[mask]['stdardized_mat']]\n",
    "stdmean = np.mean(stddays_list)\n",
    "print stdmean\n",
    "\n",
    "stdvariety_days = {}\n",
    "\n",
    "for idx, row in enumerate(mat_df[mask].index):\n",
    "    variety = mat_df[mask].iloc[idx]['Variety Group (Tree)1']\n",
    "    days = mat_df[mask].iloc[idx]['stdardized_mat']\n",
    "    if variety not in stdvariety_days.keys():\n",
    "        stdvariety_days.update({variety:[days]})\n",
    "    else:\n",
    "        stdvariety_days.get(variety).append(days)\n",
    "for key in stdvariety_days.keys():\n",
    "    days = np.mean(stdvariety_days.get(key))\n",
    "    stdvariety_days.update({key:days})\n",
    "    \n",
    "stdsource_days = {}\n",
    "\n",
    "for idx, row in enumerate(mat_df[mask].index):\n",
    "    source = mat_df[mask].iloc[idx]['source_country']\n",
    "    days = mat_df[mask].iloc[idx]['stdardized_mat']\n",
    "    if source not in stdsource_days.keys():\n",
    "        stdsource_days.update({source:[days]})\n",
    "    else:\n",
    "        stdsource_days.get(source).append(days)\n",
    "for key in stdsource_days.keys():\n",
    "    days = np.mean(stdsource_days.get(key))\n",
    "    num = len(stdsource_days.get(key))\n",
    "    stdsource_days.update({key:(days,num)})\n",
    "    \n",
    "stdtrain_var_days = []\n",
    "stdtrain_source_days = []\n",
    "for row,_ in enumerate(train_df.index):\n",
    "    var = train_df.iloc[row]['Variety Group (Tree)1']\n",
    "    source = train_df.iloc[row]['source_country']\n",
    "    if source in stdsource_days.keys():\n",
    "        stdtrain_source_days.append((stdsource_days.get(source)[0]))\n",
    "    else:\n",
    "        stdtrain_source_days.append(0)\n",
    "    stdtrain_var_days.append((stdvariety_days.get(var)))\n",
    "    \n",
    "train_df.loc[:,'stdsource_val'] = pd.Series(stdtrain_source_days)\n",
    "train_df.loc[:,'stdvar_val'] = pd.Series(stdtrain_var_days)\n",
    "train_df.loc[:,'mean'] = days_list.mean()\n",
    "train_df.loc[:,'std_mean'] = 0\n",
    "tran_df.head()"
   ]
  },
  {
   "cell_type": "code",
   "execution_count": 299,
   "metadata": {
    "collapsed": false
   },
   "outputs": [
    {
     "data": {
      "text/plain": [
       "Intercept       -0.025880\n",
       "stdsource_val    0.293890\n",
       "stdvar_val       0.229555\n",
       "std_mean         0.000000\n",
       "dtype: float64"
      ]
     },
     "execution_count": 299,
     "metadata": {},
     "output_type": "execute_result"
    }
   ],
   "source": [
    "stdols_model = ols('stdardized_mat ~ stdsource_val + stdvar_val + std_mean', train_df).fit()\n",
    "stdols_model.params"
   ]
  },
  {
   "cell_type": "code",
   "execution_count": 307,
   "metadata": {
    "collapsed": false
   },
   "outputs": [
    {
     "name": "stdout",
     "output_type": "stream",
     "text": [
      "-0.620473705895\n",
      "[[599   0]\n",
      " [105   0]]\n",
      "Accuracy: 85.0852272727%\n"
     ]
    }
   ],
   "source": [
    "a = []\n",
    "\n",
    "for row in enumerate(mat_df[~mask].index):\n",
    "    variety = mat_df[~mask].iloc[row[0]]['Variety Group (Tree)1']\n",
    "    source = mat_df[~mask].iloc[row[0]]['source_country']\n",
    "    \n",
    "    if source in stdsource_days.keys():\n",
    "        pred = (stdols_model.params.Intercept + stdols_model.params.stdsource_val*stdsource_days.get(source)[0]\n",
    "        + stdols_model.params.stdvar_val*stdvariety_days.get(variety))\n",
    "   \n",
    "    else:\n",
    "        pred = (stdols_model.params.Intercept + stdols_model.params.stdvar_val*stdvariety_days.get(variety))\n",
    "\n",
    "    if pred < (0 - np.std(stddays_list)):\n",
    "        a.append(True)\n",
    "    else:\n",
    "        a.append(False)\n",
    "    b.append(pred)\n",
    "conf = confusion_matrix(mat_df[~mask]['fast'], a)\n",
    "    \n",
    "print np.min(b)\n",
    "print conf\n",
    "print \"Accuracy: \" + str(float(conf[0][0]+conf[1][1])/float(len(mat_df[~mask]))*100) + \"%\""
   ]
  },
  {
   "cell_type": "code",
   "execution_count": null,
   "metadata": {
    "collapsed": true
   },
   "outputs": [],
   "source": [
    "# for row in enumerate(mat_df[~mask].index):\n",
    "#     variety = mat_df[~mask].iloc[row[0]]['Variety Group (Tree)1']\n",
    "#     source = mat_df[~mask].iloc[row[0]]['source_country']\n",
    "    \n",
    "#     if source in source_days.keys():\n",
    "#         pred = (ols_model.params.Intercept + ols_model.params.source_val*source_days.get(source)[0]\n",
    "#         + ols_model.params.var_val*variety_days.get(variety) + ols_model.params['mean']*mean)\n",
    "   \n",
    "#     else:\n",
    "#         pred = (ols_model.params.Intercept + ols_model.params.source_val*mean\n",
    "#         + ols_model.params.var_val*variety_days.get(variety) + ols_model.params['mean']*mean)\n",
    "\n",
    "#     if pred < (days_list.mean() - days_list.std()):\n",
    "#         a.append(True)\n",
    "#     else:\n",
    "#         a.append(False)\n",
    "#     b.append(pred)\n",
    "# conf = confusion_matrix(mat_df[~mask]['fast'], a)\n",
    "    \n",
    "# print np.min(b)\n",
    "# print conf\n",
    "# print \"Accuracy: \" + str(float(conf[0][0]+conf[1][1])/float(len(mat_df[~mask]))*100) + \"%\""
   ]
  }
 ],
 "metadata": {
  "kernelspec": {
   "display_name": "Python 2",
   "language": "python",
   "name": "python2"
  },
  "language_info": {
   "codemirror_mode": {
    "name": "ipython",
    "version": 2
   },
   "file_extension": ".py",
   "mimetype": "text/x-python",
   "name": "python",
   "nbconvert_exporter": "python",
   "pygments_lexer": "ipython2",
   "version": "2.7.10"
  }
 },
 "nbformat": 4,
 "nbformat_minor": 0
}
