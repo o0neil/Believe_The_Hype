{
 "cells": [
  {
   "cell_type": "code",
   "execution_count": 1,
   "metadata": {
    "collapsed": true
   },
   "outputs": [],
   "source": [
    "%matplotlib inline\n",
    "import numpy as np\n",
    "import scipy as sp\n",
    "import matplotlib as mpl\n",
    "import matplotlib.cm as cm\n",
    "import matplotlib.pyplot as plt\n",
    "import pandas as pd\n",
    "pd.set_option('display.width', 500)\n",
    "pd.set_option('display.max_columns', 100)\n",
    "pd.set_option('display.notebook_repr_html', True)\n",
    "import seaborn as sns\n",
    "sns.set_style(\"whitegrid\")\n",
    "sns.set_context(\"poster\")"
   ]
  },
  {
   "cell_type": "code",
   "execution_count": 2,
   "metadata": {
    "collapsed": false
   },
   "outputs": [],
   "source": [
    "from pyquery import PyQuery as pq\n",
    "from bs4 import BeautifulSoup\n",
    "# The \"requests\" library makes working with HTTP requests easier\n",
    "# than the built-in urllib libraries.\n",
    "import requests"
   ]
  },
  {
   "cell_type": "code",
   "execution_count": 3,
   "metadata": {
    "collapsed": false
   },
   "outputs": [],
   "source": [
    "# here we access the webpage and download the content using requests\n",
    "t1970=requests.get(\"http://en.wikipedia.org/wiki/Billboard_Year-End_Hot_100_singles_of_1970\")"
   ]
  },
  {
   "cell_type": "code",
   "execution_count": 4,
   "metadata": {
    "collapsed": true
   },
   "outputs": [],
   "source": [
    "d_=pq(t1970.text)"
   ]
  },
  {
   "cell_type": "code",
   "execution_count": 5,
   "metadata": {
    "collapsed": false
   },
   "outputs": [],
   "source": [
    "d_rows=pq(d_('.wikitable tr')[1:])"
   ]
  },
  {
   "cell_type": "code",
   "execution_count": 6,
   "metadata": {
    "collapsed": false
   },
   "outputs": [],
   "source": [
    "# Start by creating an empty list.\n",
    "songs=[]\n",
    "\n",
    "# Iterate over the elements of d_rows. In this case \"r\" will\n",
    "# receive each value from \"d_rows\" in turn.\n",
    "for r in d_rows:\n",
    "    # Extract the \"td\" element from the current value of r.\n",
    "    d_td=pq(r)('td')\n",
    "    # Get the text from the first (index zero) \"td\" element, and convert\n",
    "    # it to an integer. If you have the page open, this is the value on\n",
    "    # the first column of the row (i.e. the song position on the chart).\n",
    "    ranking = int(pq(d_td[0]).text())\n",
    "    # The second column holds an \"a\" element, so we need to extract that\n",
    "    # before getting the text data. This is the song title.\n",
    "    title=pq(d_td[1])('a').text()\n",
    "    # We then get the singer name, which is the text of the third column.\n",
    "    band_singer=pq(d_td[2])('a').text()\n",
    "    # Along with the singer name, we also want to get the URL to her Wikipedia page,\n",
    "    # which is held on the \"href\" attribute of the a element.\n",
    "    # Notice that we are still looking the same element we used to get the name (index 2).\n",
    "    band_singer_url=pq(d_td[2])('a').attr.href\n",
    "    # Next we'll place all this information on a dictionary (also called\n",
    "    # a map, an associative array, a hash, etc.). We will use dictionaries\n",
    "    # a lot, so it's worth to do some quick research on this versatil Python\n",
    "    # structure.\n",
    "    songdict=dict(ranking=ranking, title=title, band_singer=band_singer, url=band_singer_url)\n",
    "    # Here we're just printing the dicitonary that was created during this iteration.\n",
    "    # Lastly, we add the dictionary with the row information to the list we\n",
    "    # created in the begining of the cell.\n",
    "    # Lists will also be used extensively during the course, \n",
    "    # so you might as well do some reserach on it too.\n",
    "    songs.append(songdict)"
   ]
  },
  {
   "cell_type": "code",
   "execution_count": 7,
   "metadata": {
    "collapsed": false
   },
   "outputs": [
    {
     "data": {
      "text/plain": [
       "[{'band_singer': 'The Guess Who',\n",
       "  'ranking': 3,\n",
       "  'title': 'American Woman',\n",
       "  'url': '/wiki/The_Guess_Who'},\n",
       " {'band_singer': 'B.J. Thomas',\n",
       "  'ranking': 4,\n",
       "  'title': \"Raindrops Keep Fallin' on My Head\",\n",
       "  'url': '/wiki/B.J._Thomas'}]"
      ]
     },
     "execution_count": 7,
     "metadata": {},
     "output_type": "execute_result"
    }
   ],
   "source": [
    "# By the way, indexes are open on the upper bound.\n",
    "# So songs[2:4] will give us the third and fourth elements, but not the fifth.\n",
    "songs[2:4]"
   ]
  },
  {
   "cell_type": "code",
   "execution_count": null,
   "metadata": {
    "collapsed": true
   },
   "outputs": [],
   "source": []
  }
 ],
 "metadata": {
  "kernelspec": {
   "display_name": "Python 2",
   "language": "python",
   "name": "python2"
  },
  "language_info": {
   "codemirror_mode": {
    "name": "ipython",
    "version": 2
   },
   "file_extension": ".py",
   "mimetype": "text/x-python",
   "name": "python",
   "nbconvert_exporter": "python",
   "pygments_lexer": "ipython2",
   "version": "2.7.10"
  }
 },
 "nbformat": 4,
 "nbformat_minor": 0
}
