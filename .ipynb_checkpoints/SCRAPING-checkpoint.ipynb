{
 "cells": [
  {
   "cell_type": "code",
   "execution_count": 1,
   "metadata": {
    "collapsed": true
   },
   "outputs": [],
   "source": [
    "%matplotlib inline\n",
    "import numpy as np\n",
    "import scipy as sp\n",
    "import matplotlib as mpl\n",
    "import matplotlib.cm as cm\n",
    "import matplotlib.pyplot as plt\n",
    "import pandas as pd\n",
    "pd.set_option('display.width', 500)\n",
    "pd.set_option('display.max_columns', 100)\n",
    "pd.set_option('display.notebook_repr_html', True)\n",
    "import seaborn as sns\n",
    "sns.set_style(\"whitegrid\")\n",
    "sns.set_context(\"poster\")"
   ]
  },
  {
   "cell_type": "code",
   "execution_count": 4,
   "metadata": {
    "collapsed": false
   },
   "outputs": [],
   "source": [
    "import os\n",
    "os.environ['PYSPARK_PYTHON'] = '/anaconda/bin/python'"
   ]
  },
  {
   "cell_type": "code",
   "execution_count": 5,
   "metadata": {
    "collapsed": false
   },
   "outputs": [
    {
     "name": "stdout",
     "output_type": "stream",
     "text": [
      "/usr/local/opt/apache-spark/libexec\n"
     ]
    }
   ],
   "source": [
    "import findspark\n",
    "findspark.init()\n",
    "print findspark.find()"
   ]
  },
  {
   "cell_type": "code",
   "execution_count": 6,
   "metadata": {
    "collapsed": true
   },
   "outputs": [],
   "source": [
    "import pyspark\n",
    "conf = (pyspark.SparkConf()\n",
    "    .setMaster('local')\n",
    "    .setAppName('pyspark')\n",
    "    .set(\"spark.executor.memory\", \"2g\"))\n",
    "sc = pyspark.SparkContext(conf=conf)"
   ]
  },
  {
   "cell_type": "code",
   "execution_count": 7,
   "metadata": {
    "collapsed": false
   },
   "outputs": [
    {
     "data": {
      "text/plain": [
       "['2.7.10 |Anaconda 2.3.0 (x86_64)| (default, Oct 19 2015, 18:31:17) \\n[GCC 4.2.1 (Apple Inc. build 5577)]',\n",
       " '2.7.10 |Anaconda 2.3.0 (x86_64)| (default, Oct 19 2015, 18:31:17) \\n[GCC 4.2.1 (Apple Inc. build 5577)]',\n",
       " '2.7.10 |Anaconda 2.3.0 (x86_64)| (default, Oct 19 2015, 18:31:17) \\n[GCC 4.2.1 (Apple Inc. build 5577)]',\n",
       " '2.7.10 |Anaconda 2.3.0 (x86_64)| (default, Oct 19 2015, 18:31:17) \\n[GCC 4.2.1 (Apple Inc. build 5577)]',\n",
       " '2.7.10 |Anaconda 2.3.0 (x86_64)| (default, Oct 19 2015, 18:31:17) \\n[GCC 4.2.1 (Apple Inc. build 5577)]',\n",
       " '2.7.10 |Anaconda 2.3.0 (x86_64)| (default, Oct 19 2015, 18:31:17) \\n[GCC 4.2.1 (Apple Inc. build 5577)]',\n",
       " '2.7.10 |Anaconda 2.3.0 (x86_64)| (default, Oct 19 2015, 18:31:17) \\n[GCC 4.2.1 (Apple Inc. build 5577)]',\n",
       " '2.7.10 |Anaconda 2.3.0 (x86_64)| (default, Oct 19 2015, 18:31:17) \\n[GCC 4.2.1 (Apple Inc. build 5577)]',\n",
       " '2.7.10 |Anaconda 2.3.0 (x86_64)| (default, Oct 19 2015, 18:31:17) \\n[GCC 4.2.1 (Apple Inc. build 5577)]',\n",
       " '2.7.10 |Anaconda 2.3.0 (x86_64)| (default, Oct 19 2015, 18:31:17) \\n[GCC 4.2.1 (Apple Inc. build 5577)]']"
      ]
     },
     "execution_count": 7,
     "metadata": {},
     "output_type": "execute_result"
    }
   ],
   "source": [
    "import sys\n",
    "rdd = sc.parallelize(xrange(10),10)\n",
    "rdd.map(lambda x: sys.version).collect()"
   ]
  },
  {
   "cell_type": "code",
   "execution_count": 8,
   "metadata": {
    "collapsed": false
   },
   "outputs": [
    {
     "data": {
      "text/plain": [
       "'2.7.10 |Anaconda 2.3.0 (x86_64)| (default, Oct 19 2015, 18:31:17) \\n[GCC 4.2.1 (Apple Inc. build 5577)]'"
      ]
     },
     "execution_count": 8,
     "metadata": {},
     "output_type": "execute_result"
    }
   ],
   "source": [
    "sys.version"
   ]
  },
  {
   "cell_type": "code",
   "execution_count": 9,
   "metadata": {
    "collapsed": true
   },
   "outputs": [],
   "source": [
    "from pyspark.sql import SQLContext\n",
    "sqlsc=SQLContext(sc)"
   ]
  },
  {
   "cell_type": "code",
   "execution_count": 26,
   "metadata": {
    "collapsed": false
   },
   "outputs": [
    {
     "name": "stdout",
     "output_type": "stream",
     "text": [
      "Shape: (3000, 15)\n"
     ]
    },
    {
     "data": {
      "text/html": [
       "<div>\n",
       "<table border=\"1\" class=\"dataframe\">\n",
       "  <thead>\n",
       "    <tr style=\"text-align: right;\">\n",
       "      <th></th>\n",
       "      <th>Entry_No</th>\n",
       "      <th>Source</th>\n",
       "      <th>DNA_UNIQUE_ID</th>\n",
       "      <th>DNA_Designation</th>\n",
       "      <th>DNA_Accno_source</th>\n",
       "      <th>DNA_VARNAME_source</th>\n",
       "      <th>DNA_Othername_source</th>\n",
       "      <th>ORI_COUNTRY</th>\n",
       "      <th>Unnamed: 8</th>\n",
       "      <th>Genetic_Stock_Accno</th>\n",
       "      <th>Genetic_stock_Designation(varname)</th>\n",
       "      <th>total seq count</th>\n",
       "      <th>passed qc seq count</th>\n",
       "      <th>depth</th>\n",
       "      <th>Variety Group (Tree)1</th>\n",
       "    </tr>\n",
       "  </thead>\n",
       "  <tbody>\n",
       "    <tr>\n",
       "      <th>0</th>\n",
       "      <td>65</td>\n",
       "      <td>IRRI</td>\n",
       "      <td>IRIS 313-9783</td>\n",
       "      <td>BERENJ 1277 S::IRGC 3461-1-1</td>\n",
       "      <td>IRGC 3461</td>\n",
       "      <td>BERENJ 1277 S</td>\n",
       "      <td>NaN</td>\n",
       "      <td>AFGHANISTAN</td>\n",
       "      <td>Afghanistan</td>\n",
       "      <td>IRGC 121902</td>\n",
       "      <td>BERENJ 1277 S::IRGC 3461-1</td>\n",
       "      <td>NaN</td>\n",
       "      <td>NaN</td>\n",
       "      <td>NaN</td>\n",
       "      <td>Japonica</td>\n",
       "    </tr>\n",
       "    <tr>\n",
       "      <th>1</th>\n",
       "      <td>1632</td>\n",
       "      <td>IRRI</td>\n",
       "      <td>IRIS 313-10509</td>\n",
       "      <td>AMBARIKORI::IRGC 5132-1</td>\n",
       "      <td>IRGC 5132</td>\n",
       "      <td>AMBARIKORI</td>\n",
       "      <td>NaN</td>\n",
       "      <td>AFRICA</td>\n",
       "      <td>Africa</td>\n",
       "      <td>IRGC 127120</td>\n",
       "      <td>AMBARIKORI::IRGC 5132-1</td>\n",
       "      <td>NaN</td>\n",
       "      <td>NaN</td>\n",
       "      <td>NaN</td>\n",
       "      <td>Indica</td>\n",
       "    </tr>\n",
       "    <tr>\n",
       "      <th>2</th>\n",
       "      <td>913</td>\n",
       "      <td>IRRI</td>\n",
       "      <td>IRIS 313-8128</td>\n",
       "      <td>PRECOZ 2 F A::GERVEX 1182-C1-G1</td>\n",
       "      <td>NaN</td>\n",
       "      <td>PRECOZ 2 F A</td>\n",
       "      <td>NaN</td>\n",
       "      <td>Argentina</td>\n",
       "      <td>Argentina</td>\n",
       "      <td>IRGC 122208</td>\n",
       "      <td>PRECOZ 2 F A::GERVEX 1182-C1</td>\n",
       "      <td>51623044</td>\n",
       "      <td>51623044</td>\n",
       "      <td>10.7</td>\n",
       "      <td>Indica</td>\n",
       "    </tr>\n",
       "    <tr>\n",
       "      <th>3</th>\n",
       "      <td>363</td>\n",
       "      <td>IRRI</td>\n",
       "      <td>IRIS 313-9778</td>\n",
       "      <td>GENIT::IRGC 3272-1-1</td>\n",
       "      <td>IRGC 3272</td>\n",
       "      <td>GENIT</td>\n",
       "      <td>NaN</td>\n",
       "      <td>ARGENTINA</td>\n",
       "      <td>Argentina</td>\n",
       "      <td>IRGC 125751</td>\n",
       "      <td>GENIT::IRGC 3272-1</td>\n",
       "      <td>66457214</td>\n",
       "      <td>60982350</td>\n",
       "      <td>12.7</td>\n",
       "      <td>Indica</td>\n",
       "    </tr>\n",
       "    <tr>\n",
       "      <th>4</th>\n",
       "      <td>872</td>\n",
       "      <td>IRRI</td>\n",
       "      <td>IRIS 313-8063</td>\n",
       "      <td>104 UPLA::GERVEX 167-C1-G1</td>\n",
       "      <td>NaN</td>\n",
       "      <td>104 UPLA</td>\n",
       "      <td>NaN</td>\n",
       "      <td>Argentina</td>\n",
       "      <td>Argentina</td>\n",
       "      <td>IRGC 121947</td>\n",
       "      <td>104 UPLA::GERVEX 167-C1</td>\n",
       "      <td>68218020</td>\n",
       "      <td>68218020</td>\n",
       "      <td>14.2</td>\n",
       "      <td>Indica</td>\n",
       "    </tr>\n",
       "  </tbody>\n",
       "</table>\n",
       "</div>"
      ],
      "text/plain": [
       "  Entry_No Source   DNA_UNIQUE_ID                  DNA_Designation DNA_Accno_source DNA_VARNAME_source DNA_Othername_source  ORI_COUNTRY   Unnamed: 8 Genetic_Stock_Accno Genetic_stock_Designation(varname)  total seq count  passed qc seq count depth Variety Group (Tree)1\n",
       "0       65   IRRI   IRIS 313-9783     BERENJ 1277 S::IRGC 3461-1-1        IRGC 3461      BERENJ 1277 S                  NaN  AFGHANISTAN  Afghanistan         IRGC 121902         BERENJ 1277 S::IRGC 3461-1              NaN                  NaN   NaN              Japonica\n",
       "1     1632   IRRI  IRIS 313-10509          AMBARIKORI::IRGC 5132-1        IRGC 5132         AMBARIKORI                  NaN       AFRICA       Africa         IRGC 127120            AMBARIKORI::IRGC 5132-1              NaN                  NaN   NaN                Indica\n",
       "2      913   IRRI   IRIS 313-8128  PRECOZ 2 F A::GERVEX 1182-C1-G1              NaN       PRECOZ 2 F A                  NaN    Argentina    Argentina         IRGC 122208       PRECOZ 2 F A::GERVEX 1182-C1         51623044             51623044  10.7                Indica\n",
       "3      363   IRRI   IRIS 313-9778             GENIT::IRGC 3272-1-1        IRGC 3272              GENIT                  NaN    ARGENTINA    Argentina         IRGC 125751                 GENIT::IRGC 3272-1         66457214             60982350  12.7                Indica\n",
       "4      872   IRRI   IRIS 313-8063       104 UPLA::GERVEX 167-C1-G1              NaN           104 UPLA                  NaN    Argentina    Argentina         IRGC 121947            104 UPLA::GERVEX 167-C1         68218020             68218020  14.2                Indica"
      ]
     },
     "execution_count": 26,
     "metadata": {},
     "output_type": "execute_result"
    }
   ],
   "source": [
    "## ABOVE IS SPARK SET UP,\n",
    "## THIS IS PANDAS\n",
    "\n",
    "index_df=pd.read_csv(\"index.csv\")\n",
    "print \"Shape: \" + str(index_df.shape)\n",
    "index_df.head()"
   ]
  },
  {
   "cell_type": "code",
   "execution_count": null,
   "metadata": {
    "collapsed": true
   },
   "outputs": [],
   "source": [
    "# #We cache the data to make sure it is only read once from disk\n",
    "# revdf.cache()\n",
    "# print \"How many reviews do we have?\", revdf.count()\n",
    "# revdf.printSchema()"
   ]
  },
  {
   "cell_type": "code",
   "execution_count": null,
   "metadata": {
    "collapsed": true
   },
   "outputs": [],
   "source": [
    "# bizcounts=revdf.groupby('business_id').count()\n",
    "# bizids = (bizcounts[bizcounts['count'] > 10]\n",
    "#           .map(lambda r: r.business_id)\n",
    "#           .collect()\n",
    "#           )"
   ]
  },
  {
   "cell_type": "code",
   "execution_count": null,
   "metadata": {
    "collapsed": true
   },
   "outputs": [],
   "source": []
  }
 ],
 "metadata": {
  "kernelspec": {
   "display_name": "Python 2",
   "language": "python",
   "name": "python2"
  },
  "language_info": {
   "codemirror_mode": {
    "name": "ipython",
    "version": 2
   },
   "file_extension": ".py",
   "mimetype": "text/x-python",
   "name": "python",
   "nbconvert_exporter": "python",
   "pygments_lexer": "ipython2",
   "version": "2.7.10"
  }
 },
 "nbformat": 4,
 "nbformat_minor": 0
}
